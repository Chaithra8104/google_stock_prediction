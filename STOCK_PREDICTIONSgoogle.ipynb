{
  "cells": [
    {
      "cell_type": "markdown",
      "metadata": {
        "id": "view-in-github",
        "colab_type": "text"
      },
      "source": [
        "<a href=\"https://colab.research.google.com/github/Chaithra8104/google_stock_prediction/blob/main/STOCK_PREDICTIONSgoogle.ipynb\" target=\"_parent\"><img src=\"https://colab.research.google.com/assets/colab-badge.svg\" alt=\"Open In Colab\"/></a>"
      ]
    },
    {
      "cell_type": "markdown",
      "metadata": {
        "id": "3frM_fy5rpk5"
      },
      "source": [
        "Predicting Stocks Prices using Regression Analysis"
      ]
    },
    {
      "cell_type": "code",
      "source": [],
      "metadata": {
        "id": "Za7Fq4mUv0m0"
      },
      "execution_count": null,
      "outputs": []
    },
    {
      "cell_type": "code",
      "execution_count": null,
      "metadata": {
        "id": "sxS0kywwa-bl"
      },
      "outputs": [],
      "source": [
        "#standard data imports\n",
        "import pandas as pd\n",
        "import numpy as np\n",
        "\n",
        "#visualization\n",
        "%matplotlib inline\n",
        "import matplotlib.pyplot as plt\n",
        "import seaborn as sns\n",
        "\n",
        "#scikit-;earn metrics,functions and models\n",
        "from sklearn import metrics"
      ]
    },
    {
      "cell_type": "markdown",
      "metadata": {
        "id": "XU33SSGbr2NL"
      },
      "source": [
        "Loading the csv file and reading the  dataset"
      ]
    },
    {
      "cell_type": "code",
      "execution_count": null,
      "metadata": {
        "id": "CTdjKYCjb6BM"
      },
      "outputs": [],
      "source": [
        "#loading the csv file frm the file location dataset\n",
        "df = pd.read_csv(\"GOOG.csv\")\n"
      ]
    },
    {
      "cell_type": "code",
      "execution_count": null,
      "metadata": {
        "id": "hAj7TEPSdKac"
      },
      "outputs": [],
      "source": [
        "#printing the over view of the raw data set\n",
        "df.head()"
      ]
    },
    {
      "cell_type": "code",
      "execution_count": null,
      "metadata": {
        "id": "GkB2z74IdQ_Y"
      },
      "outputs": [],
      "source": [
        "# Identififying the shape of the data\n",
        "df.shape"
      ]
    },
    {
      "cell_type": "markdown",
      "metadata": {
        "id": "piZ0Y_ondZ84"
      },
      "source": [
        "DATA PREPARATION"
      ]
    },
    {
      "cell_type": "code",
      "execution_count": null,
      "metadata": {
        "id": "wCvYiyiPdYQw"
      },
      "outputs": [],
      "source": [
        "#Dropping the variables we do not need.\n",
        "df = df.drop(columns=[\"symbol\",\"adjClose\",\"adjHigh\",\"adjLow\",\"adjOpen\",\"adjVolume\",\"divCash\",\"splitFactor\"],axis = 1)\n",
        "\n"
      ]
    },
    {
      "cell_type": "code",
      "execution_count": null,
      "metadata": {
        "id": "QgPxoOk7eL0H"
      },
      "outputs": [],
      "source": [
        "#printing the dataset to review the remaining variables\n",
        "df.head()"
      ]
    },
    {
      "cell_type": "markdown",
      "metadata": {
        "id": "TGrBlTErsn7-"
      },
      "source": [
        "for the data preparation process, the following six variables will be kept:'date','close','high',;loe','open','volume'"
      ]
    },
    {
      "cell_type": "markdown",
      "metadata": {
        "id": "TPxUOsKCebMP"
      },
      "source": [
        "Checking duplicates"
      ]
    },
    {
      "cell_type": "code",
      "execution_count": null,
      "metadata": {
        "id": "xOaNZsvpeaqv"
      },
      "outputs": [],
      "source": [
        "#clean the data\n",
        "df.duplicated().sum().any()"
      ]
    },
    {
      "cell_type": "markdown",
      "metadata": {
        "id": "TMCCVQcYepNL"
      },
      "source": [
        "Checking for any null values"
      ]
    },
    {
      "cell_type": "code",
      "execution_count": null,
      "metadata": {
        "id": "gD2wXrNNeoC0"
      },
      "outputs": [],
      "source": [
        "# Checking for true or false for any nulls in dataset\n",
        "df.isnull().values.any()"
      ]
    },
    {
      "cell_type": "markdown",
      "metadata": {
        "id": "FnfeNQSgexqY"
      },
      "source": [
        "checking and reviewing dataframe information\n"
      ]
    },
    {
      "cell_type": "code",
      "execution_count": null,
      "metadata": {
        "id": "AJsr1gZne34y"
      },
      "outputs": [],
      "source": [
        "df.info()"
      ]
    },
    {
      "cell_type": "markdown",
      "metadata": {
        "id": "h6xrKEese-SP"
      },
      "source": [
        "Overview Descriptive Statictic for the data"
      ]
    },
    {
      "cell_type": "code",
      "execution_count": null,
      "metadata": {
        "id": "S1Qu6M6Ae8BE"
      },
      "outputs": [],
      "source": [
        "df.describe()"
      ]
    },
    {
      "cell_type": "markdown",
      "metadata": {
        "id": "GlsCKCwjfJDh"
      },
      "source": [
        "Checking the general correlation between all columns and their relationships"
      ]
    },
    {
      "cell_type": "markdown",
      "metadata": {
        "id": "8PcyskZEfXhD"
      },
      "source": [
        "Visulization correlation"
      ]
    },
    {
      "cell_type": "markdown",
      "metadata": {
        "id": "YlUDA3EyuTdR"
      },
      "source": [
        "Visulation overview of relationships in the dataset"
      ]
    },
    {
      "cell_type": "code",
      "execution_count": null,
      "metadata": {
        "id": "S5nCJb7xf7Iz"
      },
      "outputs": [],
      "source": [
        "#showing visualization on all variables in the data\n",
        "sns.pairplot(df)"
      ]
    },
    {
      "cell_type": "markdown",
      "metadata": {
        "id": "7NkciTrjuz72"
      },
      "source": [
        "hist() = Histogram plot"
      ]
    },
    {
      "cell_type": "code",
      "execution_count": null,
      "metadata": {
        "id": "Wi5OCN7MoN__"
      },
      "outputs": [],
      "source": [
        "df.hist(figsize=(25,15))\n",
        "plt.show()"
      ]
    },
    {
      "cell_type": "code",
      "execution_count": null,
      "metadata": {
        "id": "EzdcAcpvgfJu"
      },
      "outputs": [],
      "source": [
        "# Review box plot\n",
        "f, axes = plt.subplots(1,4)\n",
        "sns.boxplot(y=\"open\", data=df, ax=axes[0])\n",
        "sns.boxplot(y=\"high\", data=df, ax=axes[1])\n",
        "sns.boxplot(y=\"low\", data=df, ax=axes[2])\n",
        "sns.boxplot(y=\"close\", data=df, ax=axes[3])\n",
        "plt.tight_layout()"
      ]
    },
    {
      "cell_type": "code",
      "execution_count": null,
      "metadata": {
        "id": "PPi7iviYpiRT"
      },
      "outputs": [],
      "source": [
        "plt.plot(df[\"volume\"])\n",
        "\n"
      ]
    },
    {
      "cell_type": "code",
      "execution_count": null,
      "metadata": {
        "id": "2R7CrXeEqXrL"
      },
      "outputs": [],
      "source": [
        "plt.plot(df[\"open\"])\n"
      ]
    },
    {
      "cell_type": "code",
      "execution_count": null,
      "metadata": {
        "id": "EeWhyd7DqbP_"
      },
      "outputs": [],
      "source": [
        "plt.plot(df[\"close\"])"
      ]
    },
    {
      "cell_type": "code",
      "execution_count": null,
      "metadata": {
        "id": "lrUpgTjPhF18"
      },
      "outputs": [],
      "source": [
        "import plotly.graph_objects as go\n",
        "\n",
        "figure = go.Figure(data=[go.Candlestick(x=df[\"date\"], open=df[\"open\"], high=df[\"high\"], low=df[\"low\"], close=df[\"close\"])])\n",
        "figure.update_layout(title = \"Google Stock Price Analysis\", xaxis_rangeslider_visible=False)\n",
        "figure.show()"
      ]
    },
    {
      "cell_type": "markdown",
      "metadata": {
        "id": "Qrq_R5RdiUW7"
      },
      "source": [
        "SPLIT THE DATA"
      ]
    },
    {
      "cell_type": "code",
      "execution_count": null,
      "metadata": {
        "id": "IkSdIFbgiZIn"
      },
      "outputs": [],
      "source": [
        "# Splitting the dataset\n",
        "\n",
        "X = df[[\"open\", \"high\", \"low\", \"volume\"]].values # independent varibles\n",
        "y = df[\"close\"].values  # dependent variables"
      ]
    },
    {
      "cell_type": "markdown",
      "metadata": {
        "id": "Jm_e-Lt4iwf0"
      },
      "source": [
        "Split the data 70% train and 30% testing"
      ]
    },
    {
      "cell_type": "code",
      "execution_count": null,
      "metadata": {
        "id": "EIZ5oYmGit4J"
      },
      "outputs": [],
      "source": [
        "from sklearn.model_selection import train_test_split\n",
        "# Splitting the data 70% training and 30% testing\n",
        "X_train, X_test, y_train, y_test = train_test_split(X,y,test_size=0.3,random_state=101)"
      ]
    },
    {
      "cell_type": "code",
      "execution_count": null,
      "metadata": {
        "id": "cuYae2S8jRYb"
      },
      "outputs": [],
      "source": [
        "#Checking  the shape for train and test data\n",
        "\n",
        "print(\"Train:\", X_train.shape)\n",
        "print(\"Test:\", X_test.shape)\n"
      ]
    },
    {
      "cell_type": "markdown",
      "metadata": {
        "id": "ZIqJDAc8jguW"
      },
      "source": [
        "Training the model linear regression"
      ]
    },
    {
      "cell_type": "code",
      "execution_count": null,
      "metadata": {
        "id": "WunlFeBrjkjS"
      },
      "outputs": [],
      "source": [
        "from sklearn.linear_model import LinearRegression\n",
        "from sklearn.metrics import confusion_matrix, accuracy_score\n",
        "import statsmodels.api as sm\n",
        "\n",
        "# Creating Regression Model\n",
        "regressor = LinearRegression()\n",
        "\n",
        "#fit Linear regression  model\n",
        "model = regressor.fit(X_train, y_train)\n",
        "\n",
        "#use model to make to amke prediction\n",
        "y_pred = regressor.predict(X_test)"
      ]
    },
    {
      "cell_type": "markdown",
      "metadata": {
        "id": "AzR44zgikz7B"
      },
      "source": [
        "Prediction"
      ]
    },
    {
      "cell_type": "code",
      "execution_count": null,
      "metadata": {
        "id": "rvtF6KCsk1pJ"
      },
      "outputs": [],
      "source": [
        "predicted = regressor.predict(X_test)"
      ]
    },
    {
      "cell_type": "code",
      "execution_count": null,
      "metadata": {
        "id": "UX_xqORLkSC_"
      },
      "outputs": [],
      "source": [
        "# X_test shape\n",
        "predicted.shape"
      ]
    },
    {
      "cell_type": "markdown",
      "metadata": {
        "id": "9qIoCbVak98L"
      },
      "source": [
        "Validating the fit"
      ]
    },
    {
      "cell_type": "code",
      "execution_count": null,
      "metadata": {
        "id": "u-rXzh6QlACd"
      },
      "outputs": [],
      "source": [
        "# Printout relevant metrics\n",
        "print(\"Model Coefficients:\", regressor.coef_)\n",
        "\n",
        "#  Looking at the intercept\n",
        "print(\"Model intercept:\", regressor.intercept_)"
      ]
    },
    {
      "cell_type": "markdown",
      "metadata": {
        "id": "dbIl4_JLxphR"
      },
      "source": [
        "Prediction Table of Actual Prices and Predicted values"
      ]
    },
    {
      "cell_type": "code",
      "execution_count": null,
      "metadata": {
        "id": "CXzV20uTlcai"
      },
      "outputs": [],
      "source": [
        "dframe = pd.DataFrame(y_test,predicted)\n",
        "dfr = pd.DataFrame({\"Actual_Price\":y_test,\"Predicted_Price\":predicted})\n",
        "print(dfr)"
      ]
    },
    {
      "cell_type": "markdown",
      "metadata": {
        "id": "zWkcjFNAx6Nk"
      },
      "source": [
        "Stats on Actual Price and Predicted price"
      ]
    },
    {
      "cell_type": "code",
      "execution_count": null,
      "metadata": {
        "id": "9U9WlgU0l5jd"
      },
      "outputs": [],
      "source": [
        "dfr.describe()"
      ]
    },
    {
      "cell_type": "code",
      "execution_count": null,
      "metadata": {
        "id": "MWqCSKHzmDLH"
      },
      "outputs": [],
      "source": [
        "#This is the differnce of y_test values subtracting the prediction values\n",
        "\n",
        "residual = y_test - predicted\n",
        "sns.distplot(residual)"
      ]
    },
    {
      "cell_type": "code",
      "execution_count": null,
      "metadata": {
        "id": "TLQwESMBngwD"
      },
      "outputs": [],
      "source": [
        "results3 = sm.OLS(y_test,X_test).fit()\n",
        "results3.summary()"
      ]
    },
    {
      "cell_type": "code",
      "execution_count": null,
      "metadata": {
        "id": "GHtiXRsTnuLW"
      },
      "outputs": [],
      "source": [
        "#Checking the regression values\n",
        "\n",
        "from sklearn.metrics import confusion_matrix, accuracy_score\n",
        "regression_confidence = regressor.score(X_test,y_test)\n",
        "print(\"Linear regression confindence: \", regression_confidence)"
      ]
    },
    {
      "cell_type": "markdown",
      "metadata": {
        "id": "uMM-45EAzRKk"
      },
      "source": [
        "Model Accuracy"
      ]
    },
    {
      "cell_type": "code",
      "execution_count": null,
      "metadata": {
        "id": "xthIljxHoIVw"
      },
      "outputs": [],
      "source": [
        "x2 = abs(predicted - y_test)\n",
        "y2 =100 * (x2 / y_test)\n",
        "accuracy = 100 - np.mean(y2)\n",
        "print(\"Accuracy:\", round(accuracy, 2), \"%.\")"
      ]
    },
    {
      "cell_type": "code",
      "execution_count": null,
      "metadata": {
        "id": "Y02AELrJomIl"
      },
      "outputs": [],
      "source": [
        "plt.scatter(dfr.Actual_Price, dfr.Predicted_Price, color=\"Darkblue\")\n",
        "plt.xlabel(\"Actual Price\")\n",
        "plt.ylabel(\"Predicted Price\")\n",
        "plt.show()"
      ]
    },
    {
      "cell_type": "markdown",
      "metadata": {
        "id": "8zHavjdGzZgj"
      },
      "source": [
        "Graphing the first 20 values"
      ]
    },
    {
      "cell_type": "code",
      "execution_count": null,
      "metadata": {
        "id": "HYRqH8XBo1W6"
      },
      "outputs": [],
      "source": [
        "#graph for first 20 values\n",
        "\n",
        "graph = dfr.head(15)\n",
        "graph.plot(kind=\"bar\")"
      ]
    },
    {
      "cell_type": "code",
      "execution_count": null,
      "metadata": {
        "id": "c3hNzfAN4zxb"
      },
      "outputs": [],
      "source": [
        "from sklearn import metrics"
      ]
    }
  ],
  "metadata": {
    "colab": {
      "provenance": [],
      "include_colab_link": true
    },
    "kernelspec": {
      "display_name": "Python 3",
      "name": "python3"
    },
    "language_info": {
      "name": "python"
    }
  },
  "nbformat": 4,
  "nbformat_minor": 0
}